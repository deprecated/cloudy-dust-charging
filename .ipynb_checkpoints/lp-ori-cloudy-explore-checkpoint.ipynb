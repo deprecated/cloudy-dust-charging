{
 "cells": [
  {
   "cell_type": "code",
   "execution_count": 1,
   "metadata": {},
   "outputs": [],
   "source": [
    "import numpy as np\n",
    "import cloudytab"
   ]
  },
  {
   "cell_type": "code",
   "execution_count": 2,
   "metadata": {},
   "outputs": [],
   "source": [
    "m = cloudytab.CloudyModel(\"models/shell-R005-n30-LP_Ori\")"
   ]
  },
  {
   "cell_type": "code",
   "execution_count": 5,
   "metadata": {},
   "outputs": [
    {
     "data": {
      "text/html": [
       "&lt;Table length=266&gt;\n",
       "<table id=\"table4632776096\" class=\"table-striped table-bordered table-condensed\">\n",
       "<thead><tr><th>depth</th><th>Te</th><th>Htot</th><th>hden</th><th>eden</th><th>2H_2/H</th><th>HI</th><th>HII</th><th>HeI</th><th>HeII</th><th>HeIII</th><th>CO/C</th><th>C1</th><th>C2</th><th>C3</th><th>C4</th><th>O1</th><th>O2</th><th>O3</th><th>O4</th><th>O5</th><th>O6</th><th>H2O/O</th><th>AV(point)</th><th>AV(extend)</th></tr></thead>\n",
       "<thead><tr><th>float64</th><th>float64</th><th>float64</th><th>float64</th><th>float64</th><th>float64</th><th>float64</th><th>float64</th><th>float64</th><th>float64</th><th>float64</th><th>float64</th><th>float64</th><th>float64</th><th>float64</th><th>float64</th><th>float64</th><th>float64</th><th>float64</th><th>float64</th><th>float64</th><th>float64</th><th>float64</th><th>float64</th><th>float64</th></tr></thead>\n",
       "<tr><td>1.12978e+12</td><td>6122.3</td><td>1.25e-18</td><td>999.66</td><td>1000.9</td><td>2.6803e-14</td><td>0.0065309</td><td>0.99347</td><td>0.9279</td><td>0.072095</td><td>3.4933e-07</td><td>1.6758e-20</td><td>3.9516e-06</td><td>0.99639</td><td>0.0036055</td><td>1.1755e-36</td><td>0.0081356</td><td>0.99182</td><td>4.4505e-05</td><td>1.1755e-36</td><td>1.1755e-36</td><td>1.1755e-36</td><td>4.2106e-31</td><td>1.25e-06</td><td>9.05e-07</td></tr>\n",
       "<tr><td>6.7787e+12</td><td>6121.4</td><td>1.25e-18</td><td>1000.3</td><td>1001.1</td><td>2.6882e-14</td><td>0.0065372</td><td>0.99346</td><td>0.92993</td><td>0.070069</td><td>3.3887e-07</td><td>1.6822e-20</td><td>3.9555e-06</td><td>0.99639</td><td>0.0036098</td><td>1.1755e-36</td><td>0.0081437</td><td>0.99181</td><td>4.4304e-05</td><td>1.1755e-36</td><td>1.1755e-36</td><td>1.1755e-36</td><td>4.241e-31</td><td>6.26e-06</td><td>4.53e-06</td></tr>\n",
       "<tr><td>2.93744e+13</td><td>6117.6</td><td>1.252e-18</td><td>1001.8</td><td>1001.9</td><td>2.7176e-14</td><td>0.0065633</td><td>0.99344</td><td>0.93567</td><td>0.064333</td><td>3.0887e-07</td><td>1.7049e-20</td><td>3.9703e-06</td><td>0.99639</td><td>0.0036032</td><td>1.1755e-36</td><td>0.008177</td><td>0.99178</td><td>4.3605e-05</td><td>1.1755e-36</td><td>1.1755e-36</td><td>1.1755e-36</td><td>4.3556e-31</td><td>2.63e-05</td><td>1.9e-05</td></tr>\n",
       "<tr><td>1.19757e+14</td><td>6107.5</td><td>1.253e-18</td><td>1004.3</td><td>1003.3</td><td>2.8182e-14</td><td>0.0066598</td><td>0.99334</td><td>0.94573</td><td>0.054266</td><td>2.5353e-07</td><td>1.7843e-20</td><td>4.0236e-06</td><td>0.99647</td><td>0.00353</td><td>1.1755e-36</td><td>0.0082997</td><td>0.99166</td><td>4.1361e-05</td><td>1.1755e-36</td><td>1.1755e-36</td><td>1.1755e-36</td><td>4.7794e-31</td><td>0.000107</td><td>7.72e-05</td></tr>\n",
       "<tr><td>2.86061e+14</td><td>6093.8</td><td>1.255e-18</td><td>1010.1</td><td>1008.1</td><td>2.9728e-14</td><td>0.0068106</td><td>0.99319</td><td>0.95063</td><td>0.049367</td><td>2.1983e-07</td><td>1.9249e-20</td><td>4.1298e-06</td><td>0.99652</td><td>0.0034755</td><td>1.1755e-36</td><td>0.0084937</td><td>0.99147</td><td>3.807e-05</td><td>1.1755e-36</td><td>1.1755e-36</td><td>1.1755e-36</td><td>5.6297e-31</td><td>0.000212</td><td>0.000153</td></tr>\n",
       "<tr><td>5.02256e+14</td><td>6072.2</td><td>1.265e-18</td><td>1018.5</td><td>1015.6</td><td>3.2052e-14</td><td>0.0070381</td><td>0.99296</td><td>0.9546</td><td>0.045405</td><td>1.8959e-07</td><td>2.1406e-20</td><td>4.2791e-06</td><td>0.99667</td><td>0.0033212</td><td>1.1755e-36</td><td>0.0087848</td><td>0.99118</td><td>3.4172e-05</td><td>1.1755e-36</td><td>1.1755e-36</td><td>1.1755e-36</td><td>7.059e-31</td><td>0.00035</td><td>0.000253</td></tr>\n",
       "<tr><td>7.8331e+14</td><td>6054.5</td><td>1.274e-18</td><td>1027.8</td><td>1023.9</td><td>3.5053e-14</td><td>0.007336</td><td>0.99266</td><td>0.95979</td><td>0.040206</td><td>1.5479e-07</td><td>2.4465e-20</td><td>4.4717e-06</td><td>0.99691</td><td>0.0030853</td><td>1.1755e-36</td><td>0.0091649</td><td>0.99081</td><td>2.9718e-05</td><td>1.1755e-36</td><td>1.1755e-36</td><td>1.1755e-36</td><td>9.3705e-31</td><td>0.000531</td><td>0.000384</td></tr>\n",
       "<tr><td>1.14868e+15</td><td>6034.6</td><td>1.288e-18</td><td>1039.6</td><td>1035.2</td><td>3.9311e-14</td><td>0.0077522</td><td>0.99225</td><td>0.96677</td><td>0.033225</td><td>1.151e-07</td><td>2.914e-20</td><td>4.7331e-06</td><td>0.99723</td><td>0.002761</td><td>1.1755e-36</td><td>0.0096946</td><td>0.99028</td><td>2.4761e-05</td><td>1.1755e-36</td><td>1.1755e-36</td><td>1.1755e-36</td><td>1.3559e-30</td><td>0.000769</td><td>0.000556</td></tr>\n",
       "<tr><td>1.62366e+15</td><td>6012.0</td><td>1.305e-18</td><td>1054.3</td><td>1048.3</td><td>4.5428e-14</td><td>0.0083217</td><td>0.99168</td><td>0.97514</td><td>0.024857</td><td>7.5264e-08</td><td>3.6491e-20</td><td>5.0788e-06</td><td>0.99763</td><td>0.0023698</td><td>1.1755e-36</td><td>0.010418</td><td>0.98956</td><td>1.9543e-05</td><td>1.1755e-36</td><td>1.1755e-36</td><td>1.1755e-36</td><td>2.1659e-30</td><td>0.00108</td><td>0.000783</td></tr>\n",
       "<tr><td>2.23854e+15</td><td>5984.5</td><td>1.326e-18</td><td>1072.5</td><td>1064.5</td><td>5.4568e-14</td><td>0.0091251</td><td>0.99087</td><td>0.98378</td><td>0.016216</td><td>4.1347e-08</td><td>4.8754e-20</td><td>5.5459e-06</td><td>0.99805</td><td>0.0019489</td><td>1.1755e-36</td><td>0.011438</td><td>0.98855</td><td>1.4405e-05</td><td>1.1755e-36</td><td>1.1755e-36</td><td>1.1755e-36</td><td>3.9319e-30</td><td>0.00149</td><td>0.00108</td></tr>\n",
       "<tr><td>...</td><td>...</td><td>...</td><td>...</td><td>...</td><td>...</td><td>...</td><td>...</td><td>...</td><td>...</td><td>...</td><td>...</td><td>...</td><td>...</td><td>...</td><td>...</td><td>...</td><td>...</td><td>...</td><td>...</td><td>...</td><td>...</td><td>...</td><td>...</td><td>...</td></tr>\n",
       "<tr><td>1.76117e+16</td><td>164.8</td><td>1.259e-17</td><td>195170.0</td><td>115.03</td><td>1.6351e-07</td><td>0.99973</td><td>0.00026711</td><td>1.0</td><td>2.17e-07</td><td>7.9335e-15</td><td>2.6144e-10</td><td>3.4479e-05</td><td>0.99997</td><td>1.2294e-09</td><td>1.1755e-36</td><td>0.99991</td><td>8.5702e-05</td><td>1.0979e-13</td><td>1.1755e-36</td><td>1.1755e-36</td><td>1.1755e-36</td><td>1.8896e-15</td><td>0.183</td><td>0.133</td></tr>\n",
       "<tr><td>1.77218e+16</td><td>163.98</td><td>1.322e-17</td><td>203520.0</td><td>115.35</td><td>1.7385e-07</td><td>0.99976</td><td>0.00024474</td><td>1.0</td><td>2.1166e-07</td><td>7.5902e-15</td><td>2.9609e-10</td><td>3.5475e-05</td><td>0.99996</td><td>1.1701e-09</td><td>1.1755e-36</td><td>0.99992</td><td>7.8053e-05</td><td>1.0361e-13</td><td>1.1755e-36</td><td>1.1755e-36</td><td>1.1755e-36</td><td>2.1982e-15</td><td>0.196</td><td>0.142</td></tr>\n",
       "<tr><td>1.78356e+16</td><td>162.88</td><td>1.387e-17</td><td>212030.0</td><td>115.56</td><td>1.8492e-07</td><td>0.99978</td><td>0.0002231</td><td>1.0</td><td>2.0646e-07</td><td>7.2622e-15</td><td>3.3605e-10</td><td>3.6578e-05</td><td>0.99996</td><td>1.1153e-09</td><td>1.1755e-36</td><td>0.99993</td><td>7.0563e-05</td><td>9.7775e-14</td><td>1.1755e-36</td><td>1.1755e-36</td><td>1.1755e-36</td><td>2.5831e-15</td><td>0.21</td><td>0.152</td></tr>\n",
       "<tr><td>1.79497e+16</td><td>161.49</td><td>1.455e-17</td><td>220590.0</td><td>115.8</td><td>1.9651e-07</td><td>0.9998</td><td>0.00020325</td><td>1.0</td><td>2.0135e-07</td><td>6.9441e-15</td><td>3.8133e-10</td><td>3.7815e-05</td><td>0.99996</td><td>1.0649e-09</td><td>1.1755e-36</td><td>0.99994</td><td>6.3614e-05</td><td>9.2356e-14</td><td>1.1755e-36</td><td>1.1755e-36</td><td>1.1755e-36</td><td>3.0581e-15</td><td>0.224</td><td>0.162</td></tr>\n",
       "<tr><td>1.80667e+16</td><td>160.11</td><td>1.533e-17</td><td>230030.0</td><td>116.33</td><td>2.0951e-07</td><td>0.99982</td><td>0.0001842</td><td>1.0</td><td>1.9587e-07</td><td>6.6061e-15</td><td>4.3569e-10</td><td>3.9237e-05</td><td>0.99996</td><td>1.014e-09</td><td>1.1755e-36</td><td>0.99994</td><td>5.7043e-05</td><td>8.6961e-14</td><td>1.1755e-36</td><td>1.1755e-36</td><td>1.1755e-36</td><td>3.6455e-15</td><td>0.239</td><td>0.173</td></tr>\n",
       "<tr><td>1.81861e+16</td><td>158.51</td><td>1.626e-17</td><td>240480.0</td><td>117.17</td><td>2.2419e-07</td><td>0.99983</td><td>0.00016566</td><td>1.0</td><td>1.8991e-07</td><td>6.2438e-15</td><td>5.0197e-10</td><td>4.0928e-05</td><td>0.99996</td><td>9.6347e-10</td><td>1.1755e-36</td><td>0.99995</td><td>5.0658e-05</td><td>8.1609e-14</td><td>1.1755e-36</td><td>1.1755e-36</td><td>1.1755e-36</td><td>4.4107e-15</td><td>0.255</td><td>0.184</td></tr>\n",
       "<tr><td>1.83017e+16</td><td>156.86</td><td>1.735e-17</td><td>252050.0</td><td>118.42</td><td>2.4055e-07</td><td>0.99985</td><td>0.0001484</td><td>1.0</td><td>1.8355e-07</td><td>5.8624e-15</td><td>5.8145e-10</td><td>4.2862e-05</td><td>0.99996</td><td>9.1384e-10</td><td>1.1755e-36</td><td>0.99996</td><td>4.4776e-05</td><td>7.6405e-14</td><td>1.1755e-36</td><td>1.1755e-36</td><td>1.1755e-36</td><td>5.3756e-15</td><td>0.27</td><td>0.196</td></tr>\n",
       "<tr><td>1.84084e+16</td><td>154.83</td><td>1.849e-17</td><td>263440.0</td><td>119.8</td><td>2.5709e-07</td><td>0.99987</td><td>0.00013334</td><td>1.0</td><td>1.7743e-07</td><td>5.5028e-15</td><td>6.6953e-10</td><td>4.4984e-05</td><td>0.99996</td><td>8.6987e-10</td><td>1.1755e-36</td><td>0.99996</td><td>3.956e-05</td><td>7.179e-14</td><td>1.1755e-36</td><td>1.1755e-36</td><td>1.1755e-36</td><td>6.5814e-15</td><td>0.285</td><td>0.206</td></tr>\n",
       "<tr><td>1.85074e+16</td><td>152.63</td><td>1.971e-17</td><td>274810.0</td><td>121.34</td><td>2.7383e-07</td><td>0.99988</td><td>0.00012018</td><td>1.0</td><td>1.7152e-07</td><td>5.163e-15</td><td>7.6705e-10</td><td>4.7281e-05</td><td>0.99995</td><td>8.2953e-10</td><td>1.1755e-36</td><td>0.99997</td><td>3.4988e-05</td><td>6.763e-14</td><td>1.1755e-36</td><td>1.1755e-36</td><td>1.1755e-36</td><td>8.06e-15</td><td>0.3</td><td>0.217</td></tr>\n",
       "<tr><td>1.85558e+16</td><td>151.84</td><td>2.064e-17</td><td>283550.0</td><td>122.74</td><td>2.8678e-07</td><td>0.99989</td><td>0.00011154</td><td>1.0</td><td>1.6746e-07</td><td>4.9347e-15</td><td>8.3723e-10</td><td>4.8636e-05</td><td>0.99995</td><td>8.2161e-10</td><td>1.1755e-36</td><td>0.99997</td><td>3.2249e-05</td><td>6.5091e-14</td><td>1.1755e-36</td><td>1.1755e-36</td><td>1.1755e-36</td><td>9.0183e-15</td><td>0.3</td><td>0.217</td></tr>\n",
       "</table>"
      ],
      "text/plain": [
       "<Table length=266>\n",
       "   depth       Te      Htot     hden   ...   H2O/O    AV(point) AV(extend)\n",
       "  float64   float64  float64  float64  ...  float64    float64   float64  \n",
       "----------- ------- --------- -------- ... ---------- --------- ----------\n",
       "1.12978e+12  6122.3  1.25e-18   999.66 ... 4.2106e-31  1.25e-06   9.05e-07\n",
       " 6.7787e+12  6121.4  1.25e-18   1000.3 ...  4.241e-31  6.26e-06   4.53e-06\n",
       "2.93744e+13  6117.6 1.252e-18   1001.8 ... 4.3556e-31  2.63e-05    1.9e-05\n",
       "1.19757e+14  6107.5 1.253e-18   1004.3 ... 4.7794e-31  0.000107   7.72e-05\n",
       "2.86061e+14  6093.8 1.255e-18   1010.1 ... 5.6297e-31  0.000212   0.000153\n",
       "5.02256e+14  6072.2 1.265e-18   1018.5 ...  7.059e-31   0.00035   0.000253\n",
       " 7.8331e+14  6054.5 1.274e-18   1027.8 ... 9.3705e-31  0.000531   0.000384\n",
       "1.14868e+15  6034.6 1.288e-18   1039.6 ... 1.3559e-30  0.000769   0.000556\n",
       "1.62366e+15  6012.0 1.305e-18   1054.3 ... 2.1659e-30   0.00108   0.000783\n",
       "2.23854e+15  5984.5 1.326e-18   1072.5 ... 3.9319e-30   0.00149    0.00108\n",
       "        ...     ...       ...      ... ...        ...       ...        ...\n",
       "1.76117e+16   164.8 1.259e-17 195170.0 ... 1.8896e-15     0.183      0.133\n",
       "1.77218e+16  163.98 1.322e-17 203520.0 ... 2.1982e-15     0.196      0.142\n",
       "1.78356e+16  162.88 1.387e-17 212030.0 ... 2.5831e-15      0.21      0.152\n",
       "1.79497e+16  161.49 1.455e-17 220590.0 ... 3.0581e-15     0.224      0.162\n",
       "1.80667e+16  160.11 1.533e-17 230030.0 ... 3.6455e-15     0.239      0.173\n",
       "1.81861e+16  158.51 1.626e-17 240480.0 ... 4.4107e-15     0.255      0.184\n",
       "1.83017e+16  156.86 1.735e-17 252050.0 ... 5.3756e-15      0.27      0.196\n",
       "1.84084e+16  154.83 1.849e-17 263440.0 ... 6.5814e-15     0.285      0.206\n",
       "1.85074e+16  152.63 1.971e-17 274810.0 ...   8.06e-15       0.3      0.217\n",
       "1.85558e+16  151.84 2.064e-17 283550.0 ... 9.0183e-15       0.3      0.217"
      ]
     },
     "execution_count": 5,
     "metadata": {},
     "output_type": "execute_result"
    }
   ],
   "source": [
    "m.data[\"ovr\"]"
   ]
  },
  {
   "cell_type": "code",
   "execution_count": 6,
   "metadata": {},
   "outputs": [],
   "source": [
    "import matplotlib.pyplot as plt\n",
    "import seaborn as sns\n",
    "import pandas as pd"
   ]
  },
  {
   "cell_type": "code",
   "execution_count": 13,
   "metadata": {},
   "outputs": [],
   "source": [
    "%matplotlib inline"
   ]
  },
  {
   "cell_type": "code",
   "execution_count": 19,
   "metadata": {},
   "outputs": [],
   "source": [
    "import astropy.units as u"
   ]
  },
  {
   "cell_type": "code",
   "execution_count": null,
   "metadata": {},
   "outputs": [],
   "source": [
    "r_pc = m.data[\"rad\"][\"radius\"] / "
   ]
  },
  {
   "cell_type": "code",
   "execution_count": 17,
   "metadata": {},
   "outputs": [
    {
     "data": {
      "text/plain": [
       "[<matplotlib.lines.Line2D at 0x11e4d05c0>]"
      ]
     },
     "execution_count": 17,
     "metadata": {},
     "output_type": "execute_result"
    },
    {
     "data": {
      "image/png": "[encoded data removed]",
      "text/plain": [
       "<Figure size 432x288 with 1 Axes>"
      ]
     },
     "metadata": {},
     "output_type": "display_data"
    }
   ],
   "source": [
    "fig, ax = plt.subplots()\n",
    "ax.plot(m.data[\"rad\"][\"radius\"], m.data[\"ovr\"][\"Te\"])"
   ]
  },
  {
   "cell_type": "code",
   "execution_count": 16,
   "metadata": {},
   "outputs": [
    {
     "data": {
      "text/html": [
       "&lt;Table length=266&gt;\n",
       "<table id=\"table4632864472\" class=\"table-striped table-bordered table-condensed\">\n",
       "<thead><tr><th>NZONE</th><th>radius</th><th>depth</th><th>dr</th></tr></thead>\n",
       "<thead><tr><th>int64</th><th>float64</th><th>float64</th><th>float64</th></tr></thead>\n",
       "<tr><td>1</td><td>1.54295e+16</td><td>1.1298e+12</td><td>2.2596e+12</td></tr>\n",
       "<tr><td>2</td><td>1.54352e+16</td><td>6.7787e+12</td><td>9.0383e+12</td></tr>\n",
       "<tr><td>3</td><td>1.54578e+16</td><td>2.9374e+13</td><td>3.6153e+13</td></tr>\n",
       "<tr><td>4</td><td>1.55481e+16</td><td>1.1976e+14</td><td>1.4461e+14</td></tr>\n",
       "<tr><td>5</td><td>1.57144e+16</td><td>2.8606e+14</td><td>1.88e+14</td></tr>\n",
       "<tr><td>6</td><td>1.59306e+16</td><td>5.0226e+14</td><td>2.4439e+14</td></tr>\n",
       "<tr><td>7</td><td>1.62117e+16</td><td>7.8331e+14</td><td>3.1771e+14</td></tr>\n",
       "<tr><td>8</td><td>1.65771e+16</td><td>1.1487e+15</td><td>4.1303e+14</td></tr>\n",
       "<tr><td>9</td><td>1.7052e+16</td><td>1.6237e+15</td><td>5.3694e+14</td></tr>\n",
       "<tr><td>10</td><td>1.76669e+16</td><td>2.2385e+15</td><td>6.9282e+14</td></tr>\n",
       "<tr><td>...</td><td>...</td><td>...</td><td>...</td></tr>\n",
       "<tr><td>257</td><td>3.30401e+16</td><td>1.7612e+16</td><td>1.0641e+14</td></tr>\n",
       "<tr><td>258</td><td>3.31502e+16</td><td>1.7722e+16</td><td>1.1374e+14</td></tr>\n",
       "<tr><td>259</td><td>3.3264e+16</td><td>1.7836e+16</td><td>1.1397e+14</td></tr>\n",
       "<tr><td>260</td><td>3.33781e+16</td><td>1.795e+16</td><td>1.143e+14</td></tr>\n",
       "<tr><td>261</td><td>3.34951e+16</td><td>1.8067e+16</td><td>1.1965e+14</td></tr>\n",
       "<tr><td>262</td><td>3.36145e+16</td><td>1.8186e+16</td><td>1.1905e+14</td></tr>\n",
       "<tr><td>263</td><td>3.37301e+16</td><td>1.8302e+16</td><td>1.1218e+14</td></tr>\n",
       "<tr><td>264</td><td>3.38368e+16</td><td>1.8408e+16</td><td>1.0126e+14</td></tr>\n",
       "<tr><td>265</td><td>3.39357e+16</td><td>1.8507e+16</td><td>9.6634e+13</td></tr>\n",
       "<tr><td>266</td><td>3.39842e+16</td><td>1.8556e+16</td><td>185560000000.0</td></tr>\n",
       "</table>"
      ],
      "text/plain": [
       "<Table length=266>\n",
       "NZONE    radius     depth          dr      \n",
       "int64   float64    float64      float64    \n",
       "----- ----------- ---------- --------------\n",
       "    1 1.54295e+16 1.1298e+12     2.2596e+12\n",
       "    2 1.54352e+16 6.7787e+12     9.0383e+12\n",
       "    3 1.54578e+16 2.9374e+13     3.6153e+13\n",
       "    4 1.55481e+16 1.1976e+14     1.4461e+14\n",
       "    5 1.57144e+16 2.8606e+14       1.88e+14\n",
       "    6 1.59306e+16 5.0226e+14     2.4439e+14\n",
       "    7 1.62117e+16 7.8331e+14     3.1771e+14\n",
       "    8 1.65771e+16 1.1487e+15     4.1303e+14\n",
       "    9  1.7052e+16 1.6237e+15     5.3694e+14\n",
       "   10 1.76669e+16 2.2385e+15     6.9282e+14\n",
       "  ...         ...        ...            ...\n",
       "  257 3.30401e+16 1.7612e+16     1.0641e+14\n",
       "  258 3.31502e+16 1.7722e+16     1.1374e+14\n",
       "  259  3.3264e+16 1.7836e+16     1.1397e+14\n",
       "  260 3.33781e+16  1.795e+16      1.143e+14\n",
       "  261 3.34951e+16 1.8067e+16     1.1965e+14\n",
       "  262 3.36145e+16 1.8186e+16     1.1905e+14\n",
       "  263 3.37301e+16 1.8302e+16     1.1218e+14\n",
       "  264 3.38368e+16 1.8408e+16     1.0126e+14\n",
       "  265 3.39357e+16 1.8507e+16     9.6634e+13\n",
       "  266 3.39842e+16 1.8556e+16 185560000000.0"
      ]
     },
     "execution_count": 16,
     "metadata": {},
     "output_type": "execute_result"
    }
   ],
   "source": [
    "m.data[\"rad\"]"
   ]
  },
  {
   "cell_type": "code",
   "execution_count": null,
   "metadata": {},
   "outputs": [],
   "source": []
  }
 ],
 "metadata": {
  "kernelspec": {
   "display_name": "Python 3",
   "language": "python",
   "name": "python3"
  },
  "language_info": {
   "codemirror_mode": {
    "name": "ipython",
    "version": 3
   },
   "file_extension": ".py",
   "mimetype": "text/x-python",
   "name": "python",
   "nbconvert_exporter": "python",
   "pygments_lexer": "ipython3",
   "version": "3.6.3"
  },
  "main_language": "python"
 },
 "nbformat": 4,
 "nbformat_minor": 2
}
